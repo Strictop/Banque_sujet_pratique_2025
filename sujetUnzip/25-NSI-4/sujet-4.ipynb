{
 "cells": [
  {
   "cell_type": "markdown",
   "id": "14984ff6",
   "metadata": {},
   "source": [
    "# Exercice 1"
   ]
  },
  {
   "cell_type": "code",
   "execution_count": null,
   "id": "84ca7172",
   "metadata": {},
   "outputs": [],
   "source": [
    "def ecriture_binaire_entier_positif(n):\n",
    "    '''\n",
    "    Fonction qui renvoie l'écriture binaire d'une valeur donné n\n",
    "    '''\n",
    "    if n<=1:\n",
    "        return f\"{n}\"\n",
    "    return ecriture_binaire_entier_positif(n // 2) + f\"{n % 2}\""
   ]
  },
  {
   "cell_type": "markdown",
   "id": "d32dcdac",
   "metadata": {},
   "source": [
    "# Exercice 2"
   ]
  },
  {
   "cell_type": "code",
   "execution_count": null,
   "id": "c5db4ea4",
   "metadata": {},
   "outputs": [],
   "source": [
    "def echange(tab, i, j):\n",
    "    '''Echange les éléments d'indice i et j dans le tableau tab.'''\n",
    "    temp = tab[i]\n",
    "    tab[i] = tab[j]\n",
    "    tab[j] = temp\n",
    "\n",
    "def tri_bulles(tab):\n",
    "    '''Trie le tableau tab dans l'ordre croissant\n",
    "    par la méthode du tri à bulles.'''\n",
    "    n = len(tab)\n",
    "    for i in range(n): \n",
    "        for j in range(n-i-1): \n",
    "            if tab[j] > tab[j+1]: \n",
    "                echange(tab, j, j+1) "
   ]
  }
 ],
 "metadata": {
  "language_info": {
   "name": "python"
  }
 },
 "nbformat": 4,
 "nbformat_minor": 5
}
